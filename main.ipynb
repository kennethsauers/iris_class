{
 "cells": [
  {
   "cell_type": "code",
   "execution_count": 1,
   "metadata": {
    "collapsed": true
   },
   "outputs": [],
   "source": [
    "from sklearn.datasets import load_iris\n",
    "import numpy as np\n",
    "import tflearn\n",
    "import tensorflow\n",
    "import numpy as np\n",
    "from tflearn.layers.core import input_data, dropout, fully_connected\n",
    "from tflearn.layers.estimator import regression\n",
    "import os"
   ]
  },
  {
   "cell_type": "code",
   "execution_count": 2,
   "metadata": {
    "collapsed": false
   },
   "outputs": [],
   "source": [
    "class agent():\n",
    "    def __init__(self, name):\n",
    "        self.name = name\n",
    "        self.iris = load_iris()\n",
    "        self.features = self.iris.data\n",
    "        self.labels = self.iris.target\n",
    "        self.labels = self.convert_labels()\n",
    "        self.model = self.model_create()\n",
    "    \n",
    "        self.main_dir = self.name\n",
    "        self.model_dir = self.main_dir + '/model_save'\n",
    "        \n",
    "        if not os.path.exists(self.main_dir):\n",
    "            os.makedirs(self.main_dir)\n",
    "    def saver(self):\n",
    "        self.model.save(self.model_dir)\n",
    "    def restore(self):\n",
    "        self.model.load(self.model_dir)\n",
    "        \n",
    "    def train_for(self, num):\n",
    "        for i in range(num):\n",
    "            self.model.fit({'input': self.features}, {'targets': self.labels}, n_epoch=1, snapshot_step=500, show_metric=True, run_id='openai_learning')\n",
    "\n",
    "    \n",
    "    def model_create(self):\n",
    "        keep = 1\n",
    "        input_size = 4\n",
    "        LR = 1e-3\n",
    "        network = input_data(shape=[None, input_size], name='input')\n",
    "        network = fully_connected(network, 128, activation='relu', name = 'hidden_1')\n",
    "        network = dropout(network,keep)\n",
    "        network = fully_connected(network, 256, activation='relu', name = 'hidden_2')\n",
    "        network = dropout(network,keep)\n",
    "        network = fully_connected(network, 512, activation='relu', name = 'hidden_3')\n",
    "        network = dropout(network,keep)\n",
    "        network = fully_connected(network, 256, activation='relu', name = 'hidden_4')\n",
    "        network = dropout(network,keep)\n",
    "        network = fully_connected(network, 128, activation='relu', name = 'hidden_5')\n",
    "        network = dropout(network,keep)\n",
    "        network = fully_connected(network, 3, activation='softmax', name = 'softmax')\n",
    "        network = regression(network, optimizer='adam', learning_rate=LR, loss='categorical_crossentropy', name='targets')\n",
    "        model = tflearn.DNN(network, tensorboard_verbose=3)\n",
    "        return model\n",
    "    \n",
    "    def convert_labels(self):\n",
    "        training_data = []\n",
    "        for data in self.labels:\n",
    "            if data == 0:\n",
    "                output = [1,0,0]\n",
    "            if data == 1:\n",
    "                output = [0,1,0]\n",
    "            if data == 2:\n",
    "                output = [0,0,1]\n",
    "            training_data.append(output)\n",
    "        return training_data"
   ]
  },
  {
   "cell_type": "code",
   "execution_count": 3,
   "metadata": {
    "collapsed": true
   },
   "outputs": [],
   "source": [
    "def main():\n",
    "    classifyer = agent('agent')\n",
    "    classifyer.train_for(100)"
   ]
  },
  {
   "cell_type": "code",
   "execution_count": 4,
   "metadata": {
    "collapsed": false
   },
   "outputs": [
    {
     "name": "stdout",
     "output_type": "stream",
     "text": [
      "Training Step: 299  | total loss: \u001b[1m\u001b[32m0.42937\u001b[0m\u001b[0m | time: 0.128s\n",
      "| Adam | epoch: 100 | loss: 0.42937 - acc: 0.8931 -- iter: 128/150\n",
      "Training Step: 300  | total loss: \u001b[1m\u001b[32m0.39369\u001b[0m\u001b[0m | time: 0.153s\n",
      "| Adam | epoch: 100 | loss: 0.39369 - acc: 0.9022 -- iter: 150/150\n",
      "--\n"
     ]
    }
   ],
   "source": [
    "if __name__ == '__main__':\n",
    "    main()"
   ]
  },
  {
   "cell_type": "code",
   "execution_count": null,
   "metadata": {
    "collapsed": true
   },
   "outputs": [],
   "source": []
  }
 ],
 "metadata": {
  "anaconda-cloud": {},
  "kernelspec": {
   "display_name": "Python [conda root]",
   "language": "python",
   "name": "conda-root-py"
  },
  "language_info": {
   "codemirror_mode": {
    "name": "ipython",
    "version": 3
   },
   "file_extension": ".py",
   "mimetype": "text/x-python",
   "name": "python",
   "nbconvert_exporter": "python",
   "pygments_lexer": "ipython3",
   "version": "3.5.2"
  }
 },
 "nbformat": 4,
 "nbformat_minor": 2
}
